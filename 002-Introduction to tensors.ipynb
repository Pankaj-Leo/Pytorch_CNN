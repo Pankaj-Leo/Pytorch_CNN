{
 "nbformat": 4,
 "nbformat_minor": 0,
 "metadata": {
  "colab": {
   "provenance": [],
   "gpuType": "T4",
   "authorship_tag": "ABX9TyOUOoG01IALKZ5iQjS4pMr8"
  },
  "kernelspec": {
   "name": "python3",
   "display_name": "Python 3"
  },
  "language_info": {
   "name": "python"
  },
  "accelerator": "GPU"
 },
 "cells": [
  {
   "cell_type": "markdown",
   "source": [
    "# Introduction to tensors\n",
    "![](https://drive.google.com/uc?id=1O6UR_eZELiWmcdro_u6tGUYdwTvaIYHU)"
   ],
   "metadata": {
    "id": "3-pSsZbyq5DO"
   }
  },
  {
   "cell_type": "code",
   "source": [
    "import torch"
   ],
   "metadata": {
    "id": "SAe1tGTT0ip0",
    "executionInfo": {
     "status": "ok",
     "timestamp": 1737480032979,
     "user_tz": -330,
     "elapsed": 4515,
     "user": {
      "displayName": "nimoy",
      "userId": "12145814232676261569"
     }
    },
    "ExecuteTime": {
     "end_time": "2025-06-03T19:52:00.027384Z",
     "start_time": "2025-06-03T19:52:00.017871Z"
    }
   },
   "outputs": [],
   "execution_count": 4
  },
  {
   "cell_type": "markdown",
   "source": [
    "# creating tensors"
   ],
   "metadata": {
    "id": "JOx6jfxb0mUL"
   }
  },
  {
   "cell_type": "code",
   "source": [
    "# 1. Scalar tensor 0D\n",
    "\n",
    "scalar = torch.tensor(42)\n",
    "print(\"Scalar tensor : \", scalar)\n",
    "print(\"Scalar Dimension : \", scalar.ndim)\n",
    "print(\"Shape of Scalar tensor : \", scalar.shape)"
   ],
   "metadata": {
    "colab": {
     "base_uri": "https://localhost:8080/"
    },
    "id": "S-pncdnA0juo",
    "executionInfo": {
     "status": "ok",
     "timestamp": 1737480032980,
     "user_tz": -330,
     "elapsed": 4,
     "user": {
      "displayName": "nimoy",
      "userId": "12145814232676261569"
     }
    },
    "outputId": "7b94d844-8791-461a-d2f6-4eeffdc1def4",
    "ExecuteTime": {
     "end_time": "2025-06-03T19:52:00.066394Z",
     "start_time": "2025-06-03T19:52:00.062698Z"
    }
   },
   "outputs": [
    {
     "name": "stdout",
     "output_type": "stream",
     "text": [
      "Scalar tensor :  tensor(42)\n",
      "Scalar Dimension :  0\n",
      "Shape of Scalar tensor :  torch.Size([])\n"
     ]
    }
   ],
   "execution_count": 5
  },
  {
   "cell_type": "code",
   "source": [
    "# 1D tensor : Vector\n",
    "\n",
    "vector = torch.tensor([1,2,3])\n",
    "print(\"vector tensor : \", vector)\n",
    "print(\"vector Dimension : \", vector.ndim)\n",
    "print(\"Shape of vector tensor : \", vector.shape)\n"
   ],
   "metadata": {
    "colab": {
     "base_uri": "https://localhost:8080/"
    },
    "id": "THXfLZKY1RYa",
    "executionInfo": {
     "status": "ok",
     "timestamp": 1737480032980,
     "user_tz": -330,
     "elapsed": 3,
     "user": {
      "displayName": "nimoy",
      "userId": "12145814232676261569"
     }
    },
    "outputId": "9097ccf8-a037-426d-e057-4c811b7b15eb",
    "ExecuteTime": {
     "end_time": "2025-06-03T19:52:00.082723Z",
     "start_time": "2025-06-03T19:52:00.077993Z"
    }
   },
   "outputs": [
    {
     "name": "stdout",
     "output_type": "stream",
     "text": [
      "vector tensor :  tensor([1, 2, 3])\n",
      "vector Dimension :  1\n",
      "Shape of vector tensor :  torch.Size([3])\n"
     ]
    }
   ],
   "execution_count": 6
  },
  {
   "cell_type": "code",
   "source": [
    "# matrix 2D\n",
    "matrix = torch.tensor([[1.,2.], [3.,4.]])\n",
    "print(\"matrix tensor : \", matrix)\n",
    "print(\"matrix Dimension : \", matrix.ndim)\n",
    "print(\"Shape of matrix tensor : \", matrix.shape)"
   ],
   "metadata": {
    "colab": {
     "base_uri": "https://localhost:8080/"
    },
    "id": "ECuj0yuU1nKD",
    "executionInfo": {
     "status": "ok",
     "timestamp": 1737480155474,
     "user_tz": -330,
     "elapsed": 2,
     "user": {
      "displayName": "nimoy",
      "userId": "12145814232676261569"
     }
    },
    "outputId": "33916099-dc9e-4814-f4dc-b4354fab81d7",
    "ExecuteTime": {
     "end_time": "2025-06-03T19:52:00.099627Z",
     "start_time": "2025-06-03T19:52:00.092886Z"
    }
   },
   "outputs": [
    {
     "name": "stdout",
     "output_type": "stream",
     "text": [
      "matrix tensor :  tensor([[1., 2.],\n",
      "        [3., 4.]])\n",
      "matrix Dimension :  2\n",
      "Shape of matrix tensor :  torch.Size([2, 2])\n"
     ]
    }
   ],
   "execution_count": 7
  },
  {
   "cell_type": "code",
   "source": [
    "# 3D tensor\n",
    "tensor3d = torch.tensor([\n",
    "                      [[1,2], [3,4]],\n",
    "                      [[1,2], [3,4]]\n",
    "                      ])\n",
    "print(\"tensor3d tensor : \", tensor3d)\n",
    "print(\"tensor3d Dimension : \", tensor3d.ndim)\n",
    "print(\"Shape of tensor3d tensor : \", tensor3d.shape)"
   ],
   "metadata": {
    "colab": {
     "base_uri": "https://localhost:8080/"
    },
    "executionInfo": {
     "status": "ok",
     "timestamp": 1737480032980,
     "user_tz": -330,
     "elapsed": 2,
     "user": {
      "displayName": "nimoy",
      "userId": "12145814232676261569"
     }
    },
    "outputId": "3cef5033-6a89-4355-925a-7da6a1378b6a",
    "id": "EKFrTIyA2TnF",
    "ExecuteTime": {
     "end_time": "2025-06-03T19:52:00.119700Z",
     "start_time": "2025-06-03T19:52:00.115741Z"
    }
   },
   "outputs": [
    {
     "name": "stdout",
     "output_type": "stream",
     "text": [
      "tensor3d tensor :  tensor([[[1, 2],\n",
      "         [3, 4]],\n",
      "\n",
      "        [[1, 2],\n",
      "         [3, 4]]])\n",
      "tensor3d Dimension :  3\n",
      "Shape of tensor3d tensor :  torch.Size([2, 2, 2])\n"
     ]
    }
   ],
   "execution_count": 8
  },
  {
   "cell_type": "code",
   "source": [
    "# GPU acceleration\n",
    "\n",
    "if torch.cuda.is_available():\n",
    "  gpu_tensor = vector.to('cuda')\n",
    "  print(\"Tensor on GPU: \", gpu_tensor)\n",
    "else:\n",
    "  print(\"CUDA is not available on this machine.\")"
   ],
   "metadata": {
    "colab": {
     "base_uri": "https://localhost:8080/"
    },
    "id": "OlQyjpbL2jKV",
    "executionInfo": {
     "status": "ok",
     "timestamp": 1737480040881,
     "user_tz": -330,
     "elapsed": 718,
     "user": {
      "displayName": "nimoy",
      "userId": "12145814232676261569"
     }
    },
    "outputId": "c73fb937-5a1b-4f3e-8640-5d503cea1a8d",
    "ExecuteTime": {
     "end_time": "2025-06-03T19:52:00.133333Z",
     "start_time": "2025-06-03T19:52:00.130432Z"
    }
   },
   "outputs": [
    {
     "name": "stdout",
     "output_type": "stream",
     "text": [
      "CUDA is not available on this machine.\n"
     ]
    }
   ],
   "execution_count": 9
  },
  {
   "cell_type": "code",
   "source": [
    "# Tensor properties\n",
    "\n",
    "print(\"Data type of matrix :\", matrix.dtype)\n",
    "\n",
    "print(\"Device of Tensor : \", matrix.device)\n",
    "print(\"Device of Tensor : \", gpu_tensor.device)\n",
    "\n",
    "print(\"Is tensor on CUDA : \", matrix.is_cuda)\n",
    "print(\"Is tensor on CUDA : \", gpu_tensor.is_cuda)\n",
    "\n",
    "print(\"Size: \", matrix.size())\n",
    "\n",
    "print(\"Number of elements : \", matrix.numel())"
   ],
   "metadata": {
    "colab": {
     "base_uri": "https://localhost:8080/"
    },
    "id": "w4NrBCFq4LtJ",
    "executionInfo": {
     "status": "ok",
     "timestamp": 1737480403709,
     "user_tz": -330,
     "elapsed": 467,
     "user": {
      "displayName": "nimoy",
      "userId": "12145814232676261569"
     }
    },
    "outputId": "4b19ba5f-e530-4933-96a9-43d8ab92f544",
    "ExecuteTime": {
     "end_time": "2025-06-03T19:52:00.271834Z",
     "start_time": "2025-06-03T19:52:00.249722Z"
    }
   },
   "outputs": [
    {
     "name": "stdout",
     "output_type": "stream",
     "text": [
      "Data type of matrix : torch.float32\n",
      "Device of Tensor :  cpu\n"
     ]
    },
    {
     "ename": "NameError",
     "evalue": "name 'gpu_tensor' is not defined",
     "output_type": "error",
     "traceback": [
      "\u001B[0;31m---------------------------------------------------------------------------\u001B[0m",
      "\u001B[0;31mNameError\u001B[0m                                 Traceback (most recent call last)",
      "Cell \u001B[0;32mIn[10], line 6\u001B[0m\n\u001B[1;32m      3\u001B[0m \u001B[38;5;28mprint\u001B[39m(\u001B[38;5;124m\"\u001B[39m\u001B[38;5;124mData type of matrix :\u001B[39m\u001B[38;5;124m\"\u001B[39m, matrix\u001B[38;5;241m.\u001B[39mdtype)\n\u001B[1;32m      5\u001B[0m \u001B[38;5;28mprint\u001B[39m(\u001B[38;5;124m\"\u001B[39m\u001B[38;5;124mDevice of Tensor : \u001B[39m\u001B[38;5;124m\"\u001B[39m, matrix\u001B[38;5;241m.\u001B[39mdevice)\n\u001B[0;32m----> 6\u001B[0m \u001B[38;5;28mprint\u001B[39m(\u001B[38;5;124m\"\u001B[39m\u001B[38;5;124mDevice of Tensor : \u001B[39m\u001B[38;5;124m\"\u001B[39m, \u001B[43mgpu_tensor\u001B[49m\u001B[38;5;241m.\u001B[39mdevice)\n\u001B[1;32m      8\u001B[0m \u001B[38;5;28mprint\u001B[39m(\u001B[38;5;124m\"\u001B[39m\u001B[38;5;124mIs tensor on CUDA : \u001B[39m\u001B[38;5;124m\"\u001B[39m, matrix\u001B[38;5;241m.\u001B[39mis_cuda)\n\u001B[1;32m      9\u001B[0m \u001B[38;5;28mprint\u001B[39m(\u001B[38;5;124m\"\u001B[39m\u001B[38;5;124mIs tensor on CUDA : \u001B[39m\u001B[38;5;124m\"\u001B[39m, gpu_tensor\u001B[38;5;241m.\u001B[39mis_cuda)\n",
      "\u001B[0;31mNameError\u001B[0m: name 'gpu_tensor' is not defined"
     ]
    }
   ],
   "execution_count": 10
  },
  {
   "cell_type": "code",
   "source": [
    "!nvidia-smi"
   ],
   "metadata": {
    "colab": {
     "base_uri": "https://localhost:8080/"
    },
    "id": "Q0vPp4J04r2T",
    "executionInfo": {
     "status": "ok",
     "timestamp": 1737480237295,
     "user_tz": -330,
     "elapsed": 3,
     "user": {
      "displayName": "nimoy",
      "userId": "12145814232676261569"
     }
    },
    "outputId": "40ba242e-6756-4aa8-d735-9a85de2e8d6e"
   },
   "execution_count": 12,
   "outputs": [
    {
     "output_type": "stream",
     "name": "stdout",
     "text": [
      "Tue Jan 21 17:24:01 2025       \n",
      "+---------------------------------------------------------------------------------------+\n",
      "| NVIDIA-SMI 535.104.05             Driver Version: 535.104.05   CUDA Version: 12.2     |\n",
      "|-----------------------------------------+----------------------+----------------------+\n",
      "| GPU  Name                 Persistence-M | Bus-Id        Disp.A | Volatile Uncorr. ECC |\n",
      "| Fan  Temp   Perf          Pwr:Usage/Cap |         Memory-Usage | GPU-Util  Compute M. |\n",
      "|                                         |                      |               MIG M. |\n",
      "|=========================================+======================+======================|\n",
      "|   0  Tesla T4                       Off | 00000000:00:04.0 Off |                    0 |\n",
      "| N/A   63C    P0              30W /  70W |    105MiB / 15360MiB |      0%      Default |\n",
      "|                                         |                      |                  N/A |\n",
      "+-----------------------------------------+----------------------+----------------------+\n",
      "                                                                                         \n",
      "+---------------------------------------------------------------------------------------+\n",
      "| Processes:                                                                            |\n",
      "|  GPU   GI   CI        PID   Type   Process name                            GPU Memory |\n",
      "|        ID   ID                                                             Usage      |\n",
      "|=======================================================================================|\n",
      "+---------------------------------------------------------------------------------------+\n"
     ]
    }
   ]
  },
  {
   "cell_type": "code",
   "source": [],
   "metadata": {
    "id": "H8jAc0eE5GvD"
   },
   "execution_count": null,
   "outputs": []
  }
 ]
}
